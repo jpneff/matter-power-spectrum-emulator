{
 "cells": [
  {
   "cell_type": "code",
   "execution_count": null,
   "metadata": {},
   "outputs": [],
   "source": [
    "import numpy as np\n",
    "\n",
    "num_samples = 2500\n",
    "\n",
    "# Generate random values for each parameter\n",
    "Omega_b = np.random.uniform(low=0.039, high=0.053, size=(num_samples,))  # Baryonic matter density parameter today\n",
    "Omega_c = np.random.uniform(low=0.1, high=0.45, size=(num_samples,))     # Cold dark matter density parameter today\n",
    "A_s_1e9 = np.random.uniform(low=1.61, high=3, size=(num_samples,))    # Primordial scalar power spectrum amplitude, multiplied by 1e9\n",
    "n_s = np.random.uniform(low=0.9, high=1.1, size=(num_samples,))         # Primordial scalar power spectrum spectral index\n",
    "xi_ = np.random.uniform(low=-0.5, high=0, size=(num_samples,))           # Dimensionless parameter governing the strength of the DM-DE interaction\n",
    "h = np.random.uniform(low=0.4, high=0.8, size=(num_samples,))          # Hubble constant in unit of 100 [km/s/Mpc]\n",
    "\n",
    "# Stack the parameters into a single array\n",
    "data = np.column_stack((Omega_b, Omega_c, A_s_1e9, n_s, xi_, h))\n",
    "\n",
    "# Define redshift values\n",
    "redshifts = np.array([0, 0.5, 1, 1.5])\n",
    "\n",
    "# Loop through each redshift and save to a file\n",
    "for z in redshifts:\n",
    "    # Create a data array for the current redshift\n",
    "    z_data = np.column_stack((data, np.full((num_samples, 1), z)))\n",
    "    \n",
    "    # Define the filename\n",
    "    filename = f\"cosmological_parameters_z{z:.1f}.txt\"\n",
    "    \n",
    "    # Save the data to the file\n",
    "    np.savetxt(filename, z_data, fmt='%.6f')\n",
    "\n",
    "# Optionally, concatenate the files into a single one later\n",
    "# You can use the following code snippet to do this:\n",
    "with open('cosmological_parameters.txt', 'w') as outfile:\n",
    "    for z in redshifts:\n",
    "        with open(f'cosmological_parameters_z{z:.1f}.txt', 'r') as infile:\n",
    "            outfile.write(infile.read())\n",
    "\n"
   ]
  }
 ],
 "metadata": {
  "anaconda-cloud": {},
  "kernelspec": {
   "display_name": "Python 3 (ipykernel)",
   "language": "python",
   "name": "python3"
  },
  "language_info": {
   "codemirror_mode": {
    "name": "ipython",
    "version": 3
   },
   "file_extension": ".py",
   "mimetype": "text/x-python",
   "name": "python",
   "nbconvert_exporter": "python",
   "pygments_lexer": "ipython3",
   "version": "3.11.7"
  }
 },
 "nbformat": 4,
 "nbformat_minor": 4
}
